{
  "cells": [
    {
      "cell_type": "code",
      "execution_count": 1,
      "metadata": {
        "id": "T8ZQmKRNw7d7"
      },
      "outputs": [],
      "source": [
        "import pandas as pd\n",
        "import numpy as np\n",
        "from scipy.sparse import csr_matrix\n",
        "from sklearn.neighbors import NearestNeighbors\n",
        "import matplotlib.pyplot as plt\n",
        "import seaborn as sns"
      ]
    },
    {
      "cell_type": "code",
      "execution_count": 3,
      "metadata": {
        "id": "V7_mlKuwzFtq"
      },
      "outputs": [],
      "source": [
        "food = pd.read_csv(\"../input/food.csv\")\n",
        "ratings = pd.read_csv(\"../input/ratings.csv\")"
      ]
    },
    {
      "cell_type": "code",
      "execution_count": null,
      "metadata": {
        "id": "rQepTWkDzktG"
      },
      "outputs": [],
      "source": [
        "dataset = ratings.pivot_table(index='Food_ID',columns='User_ID',values='Rating')"
      ]
    },
    {
      "cell_type": "code",
      "execution_count": null,
      "metadata": {
        "id": "m4b2WAatzqkM"
      },
      "outputs": [],
      "source": [
        "dataset.fillna(0,inplace=True)"
      ]
    },
    {
      "cell_type": "code",
      "execution_count": null,
      "metadata": {
        "id": "vK9-8t2xztVM"
      },
      "outputs": [],
      "source": [
        "csr_dataset = csr_matrix(dataset.values)\n",
        "dataset.reset_index(inplace=True)"
      ]
    },
    {
      "cell_type": "code",
      "execution_count": null,
      "metadata": {
        "id": "tgT0rnDw1GwU"
      },
      "outputs": [],
      "source": [
        "model = NearestNeighbors(metric='cosine', algorithm='brute', n_neighbors=20, n_jobs=-1)\n",
        "model.fit(csr_dataset)"
      ]
    },
    {
      "cell_type": "code",
      "execution_count": null,
      "metadata": {
        "id": "ub__WW8WS6lv"
      },
      "outputs": [],
      "source": [
        "def food_recommendation(Food_Name):\n",
        "    n = 10\n",
        "    FoodList = food[food['Name'].str.contains(Food_Name)]  \n",
        "    if len(FoodList):        \n",
        "        Foodi= FoodList.iloc[0]['Food_ID']\n",
        "        Foodi = dataset[dataset['Food_ID'] == Foodi].index[0]\n",
        "        distances , indices = model.kneighbors(csr_dataset[Foodi],n_neighbors=n+1)    \n",
        "        Food_indices = sorted(list(zip(indices.squeeze().tolist(),distances.squeeze().tolist())),key=lambda x: x[1])[:0:-1]\n",
        "        Recommendations = []\n",
        "        for val in Food_indices:\n",
        "            Foodi = dataset.iloc[val[0]]['Food_ID']\n",
        "            i = food[food['Food_ID'] == Foodi].index\n",
        "            Recommendations.append({'Name':food.iloc[i]['Name'].values[0],'Distance':val[1]})\n",
        "        df = pd.DataFrame(Recommendations,index=range(1,n+1))\n",
        "        return df['Name']\n",
        "    else:\n",
        "        return \"No Similar Foods.\""
      ]
    },
    {
      "cell_type": "code",
      "execution_count": null,
      "metadata": {
        "id": "ptKWvfyE0OGE"
      },
      "outputs": [],
      "source": [
        "food_recommendation('summer squash salad')"
      ]
    }
  ],
  "metadata": {
    "colab": {
      "name": "imports.ipynb",
      "provenance": []
    },
    "kernelspec": {
      "display_name": "Python 3.9.12 ('food_recommend')",
      "language": "python",
      "name": "python3"
    },
    "language_info": {
      "codemirror_mode": {
        "name": "ipython",
        "version": 3
      },
      "file_extension": ".py",
      "mimetype": "text/x-python",
      "name": "python",
      "nbconvert_exporter": "python",
      "pygments_lexer": "ipython3",
      "version": "3.9.12"
    },
    "vscode": {
      "interpreter": {
        "hash": "b7cba80150fce4671a76e16466e5b37e79b6532f526542a2135995b2b235c7c1"
      }
    }
  },
  "nbformat": 4,
  "nbformat_minor": 0
}
